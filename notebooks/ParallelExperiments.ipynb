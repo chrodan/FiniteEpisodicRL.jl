{
 "cells": [
  {
   "cell_type": "code",
   "execution_count": 1,
   "metadata": {
    "collapsed": false
   },
   "outputs": [],
   "source": [
    "if nprocs() < 4\n",
    "    addprocs(4)\n",
    "end\n",
    "@everywhere include(\"../fhagents.jl\")"
   ]
  },
  {
   "cell_type": "code",
   "execution_count": 2,
   "metadata": {
    "collapsed": false
   },
   "outputs": [
    {
     "name": "stderr",
     "output_type": "stream",
     "text": [
      "WARNING: replacing module Distributions.\n",
      "WARNING: replacing module Distributions.\n",
      "WARNING: replacing module Distributions.\n",
      "WARNING: replacing module Distributions.\n"
     ]
    }
   ],
   "source": [
    "@everywhere include(\"../fhmdp.jl\")"
   ]
  },
  {
   "cell_type": "code",
   "execution_count": 3,
   "metadata": {
    "collapsed": false
   },
   "outputs": [],
   "source": [
    "using ProgressMeter\n",
    "using JLD\n",
    "\n",
    "@everywhere function sample_episode!(alg, environ)\n",
    "    s = restart!(environ)\n",
    "    t = 1\n",
    "    totreward = 0.\n",
    "    stop = false\n",
    "    while !stop\n",
    "        a = sample_action(alg, s, t)\n",
    "        sn, r, stop = step!(environ, a)\n",
    "        totreward += r\n",
    "        observe!(alg, s, a, t, r, sn)\n",
    "        s = sn\n",
    "        t += 1\n",
    "    end\n",
    "    totreward\n",
    "end\n",
    "\n",
    "\n",
    "\n",
    "@everywhere function evaluate_algorithm(name, method, algargs, mdp, seed, num_epis, update_delay, filename,\n",
    "                                    skipexist=false)\n",
    "    \n",
    "    if skipexist && isfile(filename)\n",
    "        return \"Result file existed\"\n",
    "    end\n",
    "    \n",
    "    S = nS(mdp)\n",
    "    A = nA(mdp)\n",
    "    H = horizon(mdp)\n",
    "    r = zeros(num_epis)\n",
    "    er = zeros(num_epis)\n",
    "    cer = 0.\n",
    "    \n",
    "    alg = method(S, A, H, mdp.R, algargs...)\n",
    "    #@ProgressMeter.showprogress 20 \n",
    "    timed = @elapsed for k=1:num_epis \n",
    "        cr = sample_episode!(alg, mdp)\n",
    "        if k % update_delay == 1\n",
    "            update_policy!(alg)\n",
    "            cer = expected_return(mdp, (s,t) -> alg.policy[s, t])\n",
    "        end\n",
    "        r[k] = cr\n",
    "        er[k] = cer\n",
    "    end    \n",
    "    \n",
    "    JLD.jldopen(filename, \"w\", compress=true) do file\n",
    "        write(file, \"returns\", r)\n",
    "        write(file, \"optimal_return\", expected_return(mdp, optimal_policy(mdp)))\n",
    "        write(file, \"expected_returns\", er)\n",
    "        write(file, \"update_delay\", update_delay)\n",
    "        write(file, \"seed\", seed)\n",
    "        write(file, \"gitcommit_id\", readstring(`git rev-parse HEAD`))\n",
    "        write(file, \"S\", S)\n",
    "        write(file, \"A\", A)\n",
    "        write(file, \"H\", H)\n",
    "        #write(file, \"mdp\", mdp)\n",
    "        write(file, \"name\", name)\n",
    "        write(file, \"algargs\", algargs)\n",
    "        write(file, \"duration\", timed)\n",
    "        write(file, \"now\", string(now()))\n",
    "    end\n",
    "    \"Results written to file\"\n",
    "end\n",
    "\n",
    "@everywhere function evaluate_algorithm(name, method, algargs, S, A, H, seed, num_epis, update_delay, filename,\n",
    "                                    skipexist=false)\n",
    "    srand(seed)\n",
    "    mdp = randomMDP(S, A, H)\n",
    "    evaluate_algorithm(name, method, algargs, mdp, seed, num_epis, update_delay, filename, skipexist=false)\n",
    "end\n",
    "\n",
    "@everywhere function evaluate_algorithm_chain(name, method, algargs, N, seed, num_epis, update_delay, filename,\n",
    "                                    skipexist=false)\n",
    "    srand(seed)\n",
    "    mdp = ChainMDP(N)\n",
    "    evaluate_algorithm(name, method, algargs, mdp, seed, num_epis, update_delay, filename, skipexist=false)\n",
    "end"
   ]
  },
  {
   "cell_type": "code",
   "execution_count": 4,
   "metadata": {
    "collapsed": false
   },
   "outputs": [
    {
     "data": {
      "text/plain": [
       "10"
      ]
     },
     "execution_count": 4,
     "metadata": {},
     "output_type": "execute_result"
    }
   ],
   "source": [
    "methods = [(\"UBEV\", UBEV, (0.1,)),\n",
    "    (\"UBEV_C.1\",UBEV, (0.1, 0.1)),\n",
    "    (\"UBEV_C.2\",UBEV, (0.1, 0.5)),\n",
    "    (\"OIM\", OIM, (0.1, 0.1)),\n",
    "    (\"MBIE0.1\", MBIE, (0.1, 0.1)),\n",
    "    (\"PSRL\", PSRL, (1.,)),\n",
    "    (\"MoRMax\", MoRMax, (0.1, .1, 1e-4)),\n",
    "    (\"UCFH\", UCFH, (0.1, 0.1)),\n",
    "    (\"UCFH sc.\", UCFH, (0.1, 0.1, true, 1e-6)),\n",
    "    (\"DelayedQL\", DelayedQL, (0.1, 0.1, 1/1000)),\n",
    "    (\"UCRL2\", UCRL2, (0.1,)),\n",
    "    (\"MedianPAC\", MedianPAC, (0.1, 0.1, false, false))]\n",
    "               \n",
    "N = 10_000_000\n",
    "update_delay = 10\n",
    "A = 3\n",
    "H = 10\n"
   ]
  },
  {
   "cell_type": "code",
   "execution_count": 5,
   "metadata": {
    "collapsed": false
   },
   "outputs": [
    {
     "data": {
      "text/plain": [
       "36-element Array{Any,1}:\n",
       " \"Result file existed\"    \n",
       " \"Result file existed\"    \n",
       " \"Result file existed\"    \n",
       " \"Result file existed\"    \n",
       " \"Result file existed\"    \n",
       " \"Result file existed\"    \n",
       " \"Result file existed\"    \n",
       " \"Result file existed\"    \n",
       " \"Results written to file\"\n",
       " \"Result file existed\"    \n",
       " \"Result file existed\"    \n",
       " \"Result file existed\"    \n",
       " \"Result file existed\"    \n",
       " ⋮                        \n",
       " \"Result file existed\"    \n",
       " \"Result file existed\"    \n",
       " \"Result file existed\"    \n",
       " \"Result file existed\"    \n",
       " \"Result file existed\"    \n",
       " \"Result file existed\"    \n",
       " \"Result file existed\"    \n",
       " \"Result file existed\"    \n",
       " \"Results written to file\"\n",
       " \"Result file existed\"    \n",
       " \"Result file existed\"    \n",
       " \"Result file existed\"    "
      ]
     },
     "execution_count": 5,
     "metadata": {},
     "output_type": "execute_result"
    }
   ],
   "source": [
    "\n",
    "\n",
    "names = []\n",
    "meths = []\n",
    "aargs = []\n",
    "Ss    = []\n",
    "seeds = []\n",
    "fns   = []\n",
    "i = 1\n",
    "SS = [5, 50, 200] # [5, 10, 20, 30, 50, 100, 200]\n",
    "seedss = [3]\n",
    "for S in SS, seed in seedss\n",
    "    for (name, method, algargs) in methods\n",
    "        i += 1\n",
    "        push!(names, name)\n",
    "        push!(meths, method)\n",
    "        push!(aargs, algargs)\n",
    "        push!(Ss, S)\n",
    "        push!(seeds, seed)\n",
    "        push!(fns, \"../results/randMDP_S$(S)_A$(A)_H$(H)_$(name)_$(seed).jld\")\n",
    "    end\n",
    "end\n",
    "pmap(evaluate_algorithm, names, meths, aargs, Ss, repeated(A, i), repeated(H, i), seeds, repeated(N, i),\n",
    "repeated(update_delay, i), fns, repeated(true, i))"
   ]
  },
  {
   "cell_type": "code",
   "execution_count": null,
   "metadata": {
    "collapsed": true
   },
   "outputs": [],
   "source": []
  }
 ],
 "metadata": {
  "anaconda-cloud": {},
  "kernelspec": {
   "display_name": "Julia 0.5.0-rc3",
   "language": "julia",
   "name": "julia-0.5"
  },
  "language_info": {
   "file_extension": ".jl",
   "mimetype": "application/julia",
   "name": "julia",
   "version": "0.5.1"
  }
 },
 "nbformat": 4,
 "nbformat_minor": 0
}
